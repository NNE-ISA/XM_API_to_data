{
 "metadata": {
  "language_info": {
   "codemirror_mode": {
    "name": "ipython",
    "version": 3
   },
   "file_extension": ".py",
   "mimetype": "text/x-python",
   "name": "python",
   "nbconvert_exporter": "python",
   "pygments_lexer": "ipython3",
   "version": "3.8.5-final"
  },
  "orig_nbformat": 2,
  "kernelspec": {
   "name": "python3",
   "display_name": "Python 3",
   "language": "python"
  }
 },
 "nbformat": 4,
 "nbformat_minor": 2,
 "cells": [
  {
   "cell_type": "code",
   "execution_count": 34,
   "metadata": {},
   "outputs": [
    {
     "output_type": "stream",
     "name": "stdout",
     "text": [
      "Ingrese la fecha inicial de la consulta\n",
      "la fecha elegida es 2020-01-29\n",
      "Ingrese la fecha final de la consulta\n",
      "la fecha elegida es 2020-01-30\n",
      "Se realizara la consulta de Recursos \n",
      " de las varaibles: ['Generacion Ideal', 'Generacion Real'], \n",
      " con un afrecuencia Horaria\n",
      "se ha guardado la información correctamente\n",
      "Ha terminado la consulta\n",
      "\n",
      "RESULTADO: \n",
      "\n"
     ]
    },
    {
     "output_type": "execute_result",
     "data": {
      "text/plain": [
       "              id               tipo_despacho  tecnologia     categoria  \\\n",
       "0        Recurso  NO DESPACHADO CENTRALMENTE  HIDRAULICA  FILO DE AGUA   \n",
       "1        Recurso  NO DESPACHADO CENTRALMENTE  HIDRAULICA  FILO DE AGUA   \n",
       "2        Recurso  NO DESPACHADO CENTRALMENTE  HIDRAULICA  FILO DE AGUA   \n",
       "3        Recurso  NO DESPACHADO CENTRALMENTE  HIDRAULICA  FILO DE AGUA   \n",
       "4        Recurso  NO DESPACHADO CENTRALMENTE  HIDRAULICA  FILO DE AGUA   \n",
       "...          ...                         ...         ...           ...   \n",
       "1636459  Recurso                         NaN         NaN           NaN   \n",
       "1636460  Recurso                         NaN         NaN           NaN   \n",
       "1636461  Recurso                         NaN         NaN           NaN   \n",
       "1636462  Recurso                         NaN         NaN           NaN   \n",
       "1636463  Recurso                         NaN         NaN           NaN   \n",
       "\n",
       "        sub_mercado  GeneIdea      Gene          fecha_hora Recurso ID  \\\n",
       "0              2QBW  10666.91  10666.91 2020-01-29 00:00:00    Cog0001   \n",
       "1              2QBW  10666.91  10666.91 2020-01-29 00:00:00    Cog0002   \n",
       "2              2QBW  10666.91  10666.91 2020-01-29 00:00:00    Cog0003   \n",
       "3              2QBW  10666.91  10666.91 2020-01-29 00:00:00    Cog0004   \n",
       "4              2QBW  10666.91  10666.91 2020-01-29 00:00:00    Cog0005   \n",
       "...             ...       ...       ...                 ...        ...   \n",
       "1636459        TRN1       NaN       NaN 2020-01-29 00:23:00        NaN   \n",
       "1636460        CLMG       NaN       NaN 2020-01-30 00:23:00        NaN   \n",
       "1636461        DVS1       NaN       NaN 2020-01-30 00:23:00        NaN   \n",
       "1636462        GVIO       NaN  68000.00 2020-01-30 00:23:00        NaN   \n",
       "1636463        JAGS       NaN  27295.98 2020-01-30 00:23:00        NaN   \n",
       "\n",
       "                                    nombre submercado capacidad_efectiva  \\\n",
       "0                    COGENERADOR BIOAISE 1       BIOE                  1   \n",
       "1                                INCAUCA 1       INC1                 10   \n",
       "2        COGENERADOR INGENIO PROVIDENCIA 1       INP1                  0   \n",
       "3                    COGENERADOR PROENCA 1       PNC1                  4   \n",
       "4                      INGENIO RISARALDA 1       IRG1                 17   \n",
       "...                                    ...        ...                ...   \n",
       "1636459                                NaN        NaN                NaN   \n",
       "1636460                                NaN        NaN                NaN   \n",
       "1636461                                NaN        NaN                NaN   \n",
       "1636462                                NaN        NaN                NaN   \n",
       "1636463                                NaN        NaN                NaN   \n",
       "\n",
       "        factor_conversion es_menor tipo_generacion        inicio_operacion  \\\n",
       "0                       0       NO     COGENERADOR     1998-01-08 00:00:00   \n",
       "1                       0       NO     COGENERADOR  10/21/1998 12:00:00 AM   \n",
       "2                       0       NO     COGENERADOR     2006-01-12 00:00:00   \n",
       "3                       0       NO     COGENERADOR     1999-01-01 00:00:00   \n",
       "4                       0       NO     COGENERADOR   8/15/2003 12:00:00 AM   \n",
       "...                   ...      ...             ...                     ...   \n",
       "1636459               NaN      NaN             NaN                     NaN   \n",
       "1636460               NaN      NaN             NaN                     NaN   \n",
       "1636461               NaN      NaN             NaN                     NaN   \n",
       "1636462               NaN      NaN             NaN                     NaN   \n",
       "1636463               NaN      NaN             NaN                     NaN   \n",
       "\n",
       "            estado                                nombre_agente combustible  \n",
       "0         INACTIVO                                 BIOAISE S.A.         GAS  \n",
       "1        OPERACION          NITRO ENERGY COLOMBIA S.A.S. E.S.P.      BAGAZO  \n",
       "2         INACTIVO  EMPRESA DE ENERGIA DEL PACIFICO S.A. E.S.P.     BIOMASA  \n",
       "3         INACTIVO  PROYECTOS ENERGETICOS DEL CAUCA S.A. E.S.P.      BAGAZO  \n",
       "4        OPERACION    EMPRESA DE ENERGIA DE PEREIRA S.A. E.S.P.      BAGAZO  \n",
       "...            ...                                          ...         ...  \n",
       "1636459        NaN                                          NaN         NaN  \n",
       "1636460        NaN                                          NaN         NaN  \n",
       "1636461        NaN                                          NaN         NaN  \n",
       "1636462        NaN                                          NaN         NaN  \n",
       "1636463        NaN                                          NaN         NaN  \n",
       "\n",
       "[1636464 rows x 19 columns]"
      ],
      "text/html": "<div>\n<style scoped>\n    .dataframe tbody tr th:only-of-type {\n        vertical-align: middle;\n    }\n\n    .dataframe tbody tr th {\n        vertical-align: top;\n    }\n\n    .dataframe thead th {\n        text-align: right;\n    }\n</style>\n<table border=\"1\" class=\"dataframe\">\n  <thead>\n    <tr style=\"text-align: right;\">\n      <th></th>\n      <th>id</th>\n      <th>tipo_despacho</th>\n      <th>tecnologia</th>\n      <th>categoria</th>\n      <th>sub_mercado</th>\n      <th>GeneIdea</th>\n      <th>Gene</th>\n      <th>fecha_hora</th>\n      <th>Recurso ID</th>\n      <th>nombre</th>\n      <th>submercado</th>\n      <th>capacidad_efectiva</th>\n      <th>factor_conversion</th>\n      <th>es_menor</th>\n      <th>tipo_generacion</th>\n      <th>inicio_operacion</th>\n      <th>estado</th>\n      <th>nombre_agente</th>\n      <th>combustible</th>\n    </tr>\n  </thead>\n  <tbody>\n    <tr>\n      <th>0</th>\n      <td>Recurso</td>\n      <td>NO DESPACHADO CENTRALMENTE</td>\n      <td>HIDRAULICA</td>\n      <td>FILO DE AGUA</td>\n      <td>2QBW</td>\n      <td>10666.91</td>\n      <td>10666.91</td>\n      <td>2020-01-29 00:00:00</td>\n      <td>Cog0001</td>\n      <td>COGENERADOR BIOAISE 1</td>\n      <td>BIOE</td>\n      <td>1</td>\n      <td>0</td>\n      <td>NO</td>\n      <td>COGENERADOR</td>\n      <td>1998-01-08 00:00:00</td>\n      <td>INACTIVO</td>\n      <td>BIOAISE S.A.</td>\n      <td>GAS</td>\n    </tr>\n    <tr>\n      <th>1</th>\n      <td>Recurso</td>\n      <td>NO DESPACHADO CENTRALMENTE</td>\n      <td>HIDRAULICA</td>\n      <td>FILO DE AGUA</td>\n      <td>2QBW</td>\n      <td>10666.91</td>\n      <td>10666.91</td>\n      <td>2020-01-29 00:00:00</td>\n      <td>Cog0002</td>\n      <td>INCAUCA 1</td>\n      <td>INC1</td>\n      <td>10</td>\n      <td>0</td>\n      <td>NO</td>\n      <td>COGENERADOR</td>\n      <td>10/21/1998 12:00:00 AM</td>\n      <td>OPERACION</td>\n      <td>NITRO ENERGY COLOMBIA S.A.S. E.S.P.</td>\n      <td>BAGAZO</td>\n    </tr>\n    <tr>\n      <th>2</th>\n      <td>Recurso</td>\n      <td>NO DESPACHADO CENTRALMENTE</td>\n      <td>HIDRAULICA</td>\n      <td>FILO DE AGUA</td>\n      <td>2QBW</td>\n      <td>10666.91</td>\n      <td>10666.91</td>\n      <td>2020-01-29 00:00:00</td>\n      <td>Cog0003</td>\n      <td>COGENERADOR INGENIO PROVIDENCIA 1</td>\n      <td>INP1</td>\n      <td>0</td>\n      <td>0</td>\n      <td>NO</td>\n      <td>COGENERADOR</td>\n      <td>2006-01-12 00:00:00</td>\n      <td>INACTIVO</td>\n      <td>EMPRESA DE ENERGIA DEL PACIFICO S.A. E.S.P.</td>\n      <td>BIOMASA</td>\n    </tr>\n    <tr>\n      <th>3</th>\n      <td>Recurso</td>\n      <td>NO DESPACHADO CENTRALMENTE</td>\n      <td>HIDRAULICA</td>\n      <td>FILO DE AGUA</td>\n      <td>2QBW</td>\n      <td>10666.91</td>\n      <td>10666.91</td>\n      <td>2020-01-29 00:00:00</td>\n      <td>Cog0004</td>\n      <td>COGENERADOR PROENCA 1</td>\n      <td>PNC1</td>\n      <td>4</td>\n      <td>0</td>\n      <td>NO</td>\n      <td>COGENERADOR</td>\n      <td>1999-01-01 00:00:00</td>\n      <td>INACTIVO</td>\n      <td>PROYECTOS ENERGETICOS DEL CAUCA S.A. E.S.P.</td>\n      <td>BAGAZO</td>\n    </tr>\n    <tr>\n      <th>4</th>\n      <td>Recurso</td>\n      <td>NO DESPACHADO CENTRALMENTE</td>\n      <td>HIDRAULICA</td>\n      <td>FILO DE AGUA</td>\n      <td>2QBW</td>\n      <td>10666.91</td>\n      <td>10666.91</td>\n      <td>2020-01-29 00:00:00</td>\n      <td>Cog0005</td>\n      <td>INGENIO RISARALDA 1</td>\n      <td>IRG1</td>\n      <td>17</td>\n      <td>0</td>\n      <td>NO</td>\n      <td>COGENERADOR</td>\n      <td>8/15/2003 12:00:00 AM</td>\n      <td>OPERACION</td>\n      <td>EMPRESA DE ENERGIA DE PEREIRA S.A. E.S.P.</td>\n      <td>BAGAZO</td>\n    </tr>\n    <tr>\n      <th>...</th>\n      <td>...</td>\n      <td>...</td>\n      <td>...</td>\n      <td>...</td>\n      <td>...</td>\n      <td>...</td>\n      <td>...</td>\n      <td>...</td>\n      <td>...</td>\n      <td>...</td>\n      <td>...</td>\n      <td>...</td>\n      <td>...</td>\n      <td>...</td>\n      <td>...</td>\n      <td>...</td>\n      <td>...</td>\n      <td>...</td>\n      <td>...</td>\n    </tr>\n    <tr>\n      <th>1636459</th>\n      <td>Recurso</td>\n      <td>NaN</td>\n      <td>NaN</td>\n      <td>NaN</td>\n      <td>TRN1</td>\n      <td>NaN</td>\n      <td>NaN</td>\n      <td>2020-01-29 00:23:00</td>\n      <td>NaN</td>\n      <td>NaN</td>\n      <td>NaN</td>\n      <td>NaN</td>\n      <td>NaN</td>\n      <td>NaN</td>\n      <td>NaN</td>\n      <td>NaN</td>\n      <td>NaN</td>\n      <td>NaN</td>\n      <td>NaN</td>\n    </tr>\n    <tr>\n      <th>1636460</th>\n      <td>Recurso</td>\n      <td>NaN</td>\n      <td>NaN</td>\n      <td>NaN</td>\n      <td>CLMG</td>\n      <td>NaN</td>\n      <td>NaN</td>\n      <td>2020-01-30 00:23:00</td>\n      <td>NaN</td>\n      <td>NaN</td>\n      <td>NaN</td>\n      <td>NaN</td>\n      <td>NaN</td>\n      <td>NaN</td>\n      <td>NaN</td>\n      <td>NaN</td>\n      <td>NaN</td>\n      <td>NaN</td>\n      <td>NaN</td>\n    </tr>\n    <tr>\n      <th>1636461</th>\n      <td>Recurso</td>\n      <td>NaN</td>\n      <td>NaN</td>\n      <td>NaN</td>\n      <td>DVS1</td>\n      <td>NaN</td>\n      <td>NaN</td>\n      <td>2020-01-30 00:23:00</td>\n      <td>NaN</td>\n      <td>NaN</td>\n      <td>NaN</td>\n      <td>NaN</td>\n      <td>NaN</td>\n      <td>NaN</td>\n      <td>NaN</td>\n      <td>NaN</td>\n      <td>NaN</td>\n      <td>NaN</td>\n      <td>NaN</td>\n    </tr>\n    <tr>\n      <th>1636462</th>\n      <td>Recurso</td>\n      <td>NaN</td>\n      <td>NaN</td>\n      <td>NaN</td>\n      <td>GVIO</td>\n      <td>NaN</td>\n      <td>68000.00</td>\n      <td>2020-01-30 00:23:00</td>\n      <td>NaN</td>\n      <td>NaN</td>\n      <td>NaN</td>\n      <td>NaN</td>\n      <td>NaN</td>\n      <td>NaN</td>\n      <td>NaN</td>\n      <td>NaN</td>\n      <td>NaN</td>\n      <td>NaN</td>\n      <td>NaN</td>\n    </tr>\n    <tr>\n      <th>1636463</th>\n      <td>Recurso</td>\n      <td>NaN</td>\n      <td>NaN</td>\n      <td>NaN</td>\n      <td>JAGS</td>\n      <td>NaN</td>\n      <td>27295.98</td>\n      <td>2020-01-30 00:23:00</td>\n      <td>NaN</td>\n      <td>NaN</td>\n      <td>NaN</td>\n      <td>NaN</td>\n      <td>NaN</td>\n      <td>NaN</td>\n      <td>NaN</td>\n      <td>NaN</td>\n      <td>NaN</td>\n      <td>NaN</td>\n      <td>NaN</td>\n    </tr>\n  </tbody>\n</table>\n<p>1636464 rows × 19 columns</p>\n</div>"
     },
     "metadata": {},
     "execution_count": 34
    }
   ],
   "source": [
    "import pandas as pd\n",
    "import datetime as dt\n",
    "import xm_query as xq\n",
    "\n",
    "a = xq.manualQuery()\n",
    "print('\\nRESULTADO: \\n')\n",
    "a"
   ]
  }
 ]
}