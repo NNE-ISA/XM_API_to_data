{
 "metadata": {
  "language_info": {
   "codemirror_mode": {
    "name": "ipython",
    "version": 3
   },
   "file_extension": ".py",
   "mimetype": "text/x-python",
   "name": "python",
   "nbconvert_exporter": "python",
   "pygments_lexer": "ipython3",
   "version": "3.8.5-final"
  },
  "orig_nbformat": 2,
  "kernelspec": {
   "name": "python3",
   "display_name": "Python 3",
   "language": "python"
  }
 },
 "nbformat": 4,
 "nbformat_minor": 2,
 "cells": [
  {
   "cell_type": "code",
   "execution_count": 7,
   "metadata": {},
   "outputs": [],
   "source": [
    "import pandas as pd\n",
    "import datetime as dt\n",
    "import xm_info as xi\n",
    "\n",
    "a = xi.manualQuery()\n",
    "print('\\nRESULTADO: \\n')\n",
    "a"
   ]
  },
  {
   "cell_type": "code",
   "execution_count": 5,
   "metadata": {},
   "outputs": [],
   "source": [
    "import pandas as pd\n",
    "import datetime as dt\n",
    "import xm_query as xq\n",
    "\n",
    "item = 'Recursos'\n",
    "sd = dt.date(2020,1,29)\n",
    "ed = dt.date(2020,1,30)\n",
    "freq = 'Horaria'\n",
    "var = ['Generacion Ideal','Generacion Real']\n",
    "\n",
    "a = xq.xmQueryAPI(item, sd, ed, freq, var=[], save=False)\n",
    "print('\\nRESULTADO: \\n')\n",
    "a"
   ]
  }
 ]
}